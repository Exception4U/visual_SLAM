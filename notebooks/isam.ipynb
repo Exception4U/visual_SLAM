{
 "cells": [
  {
   "cell_type": "code",
   "execution_count": 3,
   "id": "80f33587-d5f3-4c0f-a724-917a86cece46",
   "metadata": {},
   "outputs": [
    {
     "name": "stdout",
     "output_type": "stream",
     "text": [
      "Collecting gtsam==4.1.1.dev3\n",
      "  Using cached gtsam-4.1.1.dev3-py3-none-macosx_10_9_x86_64.whl (20.4 MB)\n",
      "Requirement already satisfied: numpy in /Library/Frameworks/Python.framework/Versions/3.9/lib/python3.9/site-packages (from gtsam==4.1.1.dev3) (1.21.3)\n",
      "\u001b[33mWARNING: The candidate selected for download or install is a yanked version: 'gtsam' candidate (version 4.1.1.dev3 at https://files.pythonhosted.org/packages/fd/17/a7480610334cd94c3bcb6c0538bfc6a90ebf9fcfb3a4724b5b8c90311d02/gtsam-4.1.1.dev3-py3-none-macosx_10_9_x86_64.whl#sha256=5287451ce70fbf248d498db3e551c1f6a4fda0189e1662df0325244732207fef (from https://pypi.org/simple/gtsam/))\n",
      "Reason for being yanked: <none given>\u001b[0m\n",
      "Installing collected packages: gtsam\n",
      "Successfully installed gtsam-4.1.1.dev3\n",
      "\u001b[33mWARNING: You are using pip version 21.3.1; however, version 22.0.4 is available.\n",
      "You should consider upgrading via the '/Library/Frameworks/Python.framework/Versions/3.9/bin/python3.9 -m pip install --upgrade pip' command.\u001b[0m\n"
     ]
    }
   ],
   "source": [
    "!pip install gtsam==4.1.1.dev3"
   ]
  },
  {
   "cell_type": "code",
   "execution_count": 31,
   "id": "1ed432b1-cf8e-42c5-8cdf-c8865d99678f",
   "metadata": {},
   "outputs": [],
   "source": [
    "import pandas as pd\n",
    "# import gtsam\n",
    "import sys, os\n",
    "import yaml\n",
    "\n",
    "sys.path.append(\"/Users/tushar.vaidya/codes/Python-VO/\")\n",
    "\n",
    "from utils.tools import plot_keypoints\n",
    "\n",
    "from DataLoader import create_dataloader\n",
    "from Detectors import create_detector\n",
    "from Matchers import create_matcher\n",
    "\n",
    "import cv2"
   ]
  },
  {
   "cell_type": "code",
   "execution_count": 5,
   "id": "ec2b032b-84e3-4d71-8fa5-f9820075dd3f",
   "metadata": {},
   "outputs": [],
   "source": [
    "traj = pd.read_csv(\"../results/kitti_superpoint_supergluematch.txt\",header=None, delimiter=\" \",names=[\"id\",\"x\",\"y\",\"z\",\"roll\",\"pitch\",\"yaw\"])"
   ]
  },
  {
   "cell_type": "code",
   "execution_count": null,
   "id": "eaf428b3-8a9e-40a2-b157-ac90f74f6420",
   "metadata": {},
   "outputs": [],
   "source": [
    "traj"
   ]
  },
  {
   "cell_type": "code",
   "execution_count": 6,
   "id": "68891059-9f3c-4390-8042-06bc01d3a7bf",
   "metadata": {},
   "outputs": [
    {
     "ename": "NameError",
     "evalue": "name 'config' is not defined",
     "output_type": "error",
     "traceback": [
      "\u001b[0;31m---------------------------------------------------------------------------\u001b[0m",
      "\u001b[0;31mNameError\u001b[0m                                 Traceback (most recent call last)",
      "\u001b[0;32m/var/folders/3_/hplvbs194t36g34jxx2qfdfcd_2tgd/T/ipykernel_14534/825652575.py\u001b[0m in \u001b[0;36m<module>\u001b[0;34m\u001b[0m\n\u001b[0;32m----> 1\u001b[0;31m \u001b[0mmatcher\u001b[0m \u001b[0;34m=\u001b[0m \u001b[0mcreate_matcher\u001b[0m\u001b[0;34m(\u001b[0m\u001b[0mconfig\u001b[0m\u001b[0;34m[\u001b[0m\u001b[0;34m\"matcher\"\u001b[0m\u001b[0;34m]\u001b[0m\u001b[0;34m)\u001b[0m\u001b[0;34m\u001b[0m\u001b[0;34m\u001b[0m\u001b[0m\n\u001b[0m",
      "\u001b[0;31mNameError\u001b[0m: name 'config' is not defined"
     ]
    }
   ],
   "source": [
    "\n",
    "matcher = create_matcher(config[\"matcher\"])"
   ]
  },
  {
   "cell_type": "code",
   "execution_count": 10,
   "id": "d2c87e4c-8249-4be5-978f-06e802214129",
   "metadata": {},
   "outputs": [
    {
     "name": "stderr",
     "output_type": "stream",
     "text": [
      "/Users/tushar.vaidya/py37/lib/python3.7/site-packages/ipykernel_launcher.py:2: YAMLLoadWarning: calling yaml.load() without Loader=... is deprecated, as the default Loader is unsafe. Please read https://msg.pyyaml.org/load for full details.\n",
      "  \n"
     ]
    }
   ],
   "source": [
    "with open(\"../params/custom_sift_flann_match.yaml\", 'r') as f:\n",
    "        config = yaml.load(f)"
   ]
  },
  {
   "cell_type": "code",
   "execution_count": 13,
   "id": "b15ddd95-85f1-4fff-9c0c-de03b4a6e5f3",
   "metadata": {},
   "outputs": [
    {
     "data": {
      "text/plain": [
       "{'dataset': {'name': 'SequenceImageLoader',\n",
       "  'root_path': '/Users/tushar.vaidya/datasets/kitti/hiring-assignment-lt/',\n",
       "  'img_folder': 'images',\n",
       "  'start': 0,\n",
       "  'format': 'png'},\n",
       " 'detector': {'name': 'HandcraftDetector',\n",
       "  'type': 'SIFT',\n",
       "  'SIFT': {'nfeatures': 1000,\n",
       "   'nOctaveLayers': 3,\n",
       "   'contrastThreshold': 0.04,\n",
       "   'edgeThreshold': 10,\n",
       "   'sigma': 1.6}},\n",
       " 'matcher': {'name': 'FrameByFrameMatcher',\n",
       "  'type': 'FLANN',\n",
       "  'FLANN': {'kdTrees': 5, 'searchChecks': 50},\n",
       "  'distance_ratio': 0.75}}"
      ]
     },
     "execution_count": 13,
     "metadata": {},
     "output_type": "execute_result"
    }
   ],
   "source": [
    "config"
   ]
  },
  {
   "cell_type": "code",
   "execution_count": 15,
   "id": "6dc081c3-87af-4abd-8832-3ea32739f470",
   "metadata": {},
   "outputs": [],
   "source": [
    "detector = create_detector(config[\"detector\"])\n",
    "# create matcher\n",
    "matcher = create_matcher(config[\"matcher\"])"
   ]
  },
  {
   "cell_type": "code",
   "execution_count": 17,
   "id": "9a5a5e7a-f3ef-4a96-8eb2-178d6ea2f09f",
   "metadata": {},
   "outputs": [],
   "source": [
    "loader = create_dataloader(config[\"dataset\"])"
   ]
  },
  {
   "cell_type": "code",
   "execution_count": 19,
   "id": "0cd707a9-b5d7-457a-b18c-963518aaab8f",
   "metadata": {},
   "outputs": [],
   "source": [
    "img1 = loader[0]\n",
    "img2 = loader[2]"
   ]
  },
  {
   "cell_type": "code",
   "execution_count": 24,
   "id": "0ec4b3a6-ca34-491d-a7fe-dfe3086be7fc",
   "metadata": {},
   "outputs": [],
   "source": [
    "kptdesc1 = detector(img1)\n",
    "kptdesc2 = detector(img2)"
   ]
  },
  {
   "cell_type": "code",
   "execution_count": 26,
   "id": "65c86ff5-599a-47a2-b48a-774363559d25",
   "metadata": {},
   "outputs": [],
   "source": [
    "pair = {}\n",
    "pair[\"cur\"] = kptdesc1\n",
    "pair[\"ref\"] =kptdesc2"
   ]
  },
  {
   "cell_type": "code",
   "execution_count": 28,
   "id": "8779fed6-84ab-426e-abb7-88857eec86b1",
   "metadata": {},
   "outputs": [],
   "source": [
    "matches = matcher(pair)"
   ]
  },
  {
   "cell_type": "code",
   "execution_count": 30,
   "id": "032936ba-c089-49bc-b77f-9856a24927ce",
   "metadata": {},
   "outputs": [],
   "source": [
    "# matches"
   ]
  },
  {
   "cell_type": "code",
   "execution_count": 34,
   "id": "728b5e88-f09b-4f58-a2bd-ad3ec59db824",
   "metadata": {},
   "outputs": [],
   "source": [
    "## refer linke for more functions https://www.programcreek.com/python/example/110665/cv2.triangulatePoints\n",
    "def triangulate_points(self, kps_left, desps_left, kps_right, desps_right):\n",
    "        matches = self.feature.row_match(\n",
    "            kps_left, desps_left, kps_right, desps_right)\n",
    "        assert len(matches) > 0\n",
    "\n",
    "        px_left = np.array([kps_left[m.queryIdx].pt for m in matches])\n",
    "        px_right = np.array([kps_right[m.trainIdx].pt for m in matches])\n",
    "\n",
    "        points = cv2.triangulatePoints(\n",
    "            self.left.projection_matrix, \n",
    "            self.right.projection_matrix, \n",
    "            px_left.transpose(), \n",
    "            px_right.transpose() \n",
    "            ).transpose()  # shape: (N, 4)\n",
    "\n",
    "        points = points[:, :3] / points[:, 3:]\n",
    "\n",
    "        can_view = np.logical_and(\n",
    "            self.left.can_view(points), \n",
    "            self.right.can_view(points))\n",
    "\n",
    "        mappoints = []\n",
    "        matchs = []\n",
    "        for i, point in enumerate(points):\n",
    "            if not can_view[i]:\n",
    "                continue\n",
    "            normal = point - self.position\n",
    "            normal = normal / np.linalg.norm(normal)\n",
    "\n",
    "            color = self.left.get_color(px_left[i])\n",
    "\n",
    "            mappoint = MapPoint(\n",
    "                point, normal, desps_left[matches[i].queryIdx], color)\n",
    "            mappoints.append(mappoint)\n",
    "            matchs.append((matches[i].queryIdx, matches[i].trainIdx))\n",
    "\n",
    "        return mappoints, matchs "
   ]
  },
  {
   "cell_type": "code",
   "execution_count": 35,
   "id": "c613f300-5aed-4fe4-b8d0-358494a0ff35",
   "metadata": {},
   "outputs": [],
   "source": [
    "def triangulate_normalized_points(pose_1w, pose_2w, kpn_1, kpn_2):\n",
    "    # P1w = np.dot(K1,  M1w) # K1*[R1w, t1w]\n",
    "    # P2w = np.dot(K2,  M2w) # K2*[R2w, t2w]\n",
    "    # since we are working with normalized coordinates x_hat = Kinv*x, one has         \n",
    "    P1w = pose_1w[:3,:] # [R1w, t1w]\n",
    "    P2w = pose_2w[:3,:] # [R2w, t2w]\n",
    "\n",
    "    point_4d_hom = cv2.triangulatePoints(P1w, P2w, kpn_1.T, kpn_2.T)\n",
    "    good_pts_mask = np.where(point_4d_hom[3]!= 0)[0]\n",
    "    point_4d = point_4d_hom / point_4d_hom[3] \n",
    "    \n",
    "    if __debug__:\n",
    "        if False: \n",
    "            point_reproj = P1w @ point_4d;\n",
    "            point_reproj = point_reproj / point_reproj[2] - add_ones(kpn_1).T\n",
    "            err = np.sum(point_reproj**2)\n",
    "            print('reproj err: ', err)     \n",
    "\n",
    "    #return point_4d.T\n",
    "    points_3d = point_4d[:3, :].T\n",
    "    return points_3d, good_pts_mask  \n"
   ]
  },
  {
   "cell_type": "code",
   "execution_count": null,
   "id": "4315661a-6260-4141-8676-6b50dacf942c",
   "metadata": {},
   "outputs": [],
   "source": []
  }
 ],
 "metadata": {
  "interpreter": {
   "hash": "9b1f8bceefabfdef14c19071807752c1d7f83ecc8f2435f8b1e6267119553b33"
  },
  "kernelspec": {
   "display_name": "py37",
   "language": "python",
   "name": "py37"
  },
  "language_info": {
   "codemirror_mode": {
    "name": "ipython",
    "version": 3
   },
   "file_extension": ".py",
   "mimetype": "text/x-python",
   "name": "python",
   "nbconvert_exporter": "python",
   "pygments_lexer": "ipython3",
   "version": "3.7.12"
  }
 },
 "nbformat": 4,
 "nbformat_minor": 5
}
